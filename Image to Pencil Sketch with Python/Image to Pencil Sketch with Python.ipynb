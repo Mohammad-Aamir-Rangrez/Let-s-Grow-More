{
 "cells": [
  {
   "cell_type": "markdown",
   "id": "e3e5fc2b",
   "metadata": {},
   "source": [
    "# Data Science Intern at Let's Grow More LGMVIP Jun 2023\n",
    "# Beginner Level Task\n",
    "# Image to Penil Sketch with Python\n",
    "# Mohammad Aamir Rangrez\n",
    "\n"
   ]
  },
  {
   "cell_type": "markdown",
   "id": "1cada021",
   "metadata": {},
   "source": [
    "# **Table of Contents:**\n",
    "* Import Libraries\n",
    "* Getting the Data\n",
    "* Display the original Image\n",
    "* Reading the back and white image\n",
    "* Displaying the black and white Image\n",
    "* Displayiing Invered Image\n",
    "* Blurring the image\n",
    "* Inverting the Blurred Image\n",
    "* Creating the Pencil sketch image \n",
    "* Displaying sketch Image\n",
    "* Displaying Original Image\n",
    "* Displaying Sketch image\n",
    "* Submission\n",
    "* Summary"
   ]
  },
  {
   "cell_type": "markdown",
   "id": "282d5f4a",
   "metadata": {},
   "source": [
    "# Importing Libraries"
   ]
  },
  {
   "cell_type": "code",
   "execution_count": 1,
   "id": "a4dfc435",
   "metadata": {},
   "outputs": [],
   "source": [
    "import cv2"
   ]
  },
  {
   "cell_type": "markdown",
   "id": "93efeaa5",
   "metadata": {},
   "source": [
    "# Getting the Data"
   ]
  },
  {
   "cell_type": "code",
   "execution_count": 2,
   "id": "710f72fc",
   "metadata": {},
   "outputs": [],
   "source": [
    "image = cv2.imread('./img.jpg')"
   ]
  },
  {
   "cell_type": "markdown",
   "id": "2c82e101",
   "metadata": {},
   "source": [
    "# Display the original Image"
   ]
  },
  {
   "cell_type": "code",
   "execution_count": 3,
   "id": "387d221a",
   "metadata": {},
   "outputs": [
    {
     "data": {
      "text/plain": [
       "13"
      ]
     },
     "execution_count": 3,
     "metadata": {},
     "output_type": "execute_result"
    }
   ],
   "source": [
    "cv2.imshow(\"Original Image\",image)\n",
    "cv2.waitKey(0)"
   ]
  },
  {
   "cell_type": "markdown",
   "id": "f0af9eec",
   "metadata": {},
   "source": [
    "# Reading the black and white image"
   ]
  },
  {
   "cell_type": "code",
   "execution_count": 4,
   "id": "c250dff5",
   "metadata": {},
   "outputs": [],
   "source": [
    "\n",
    "b_and_w_image = cv2.cvtColor(image, cv2.COLOR_BGR2GRAY)\n"
   ]
  },
  {
   "cell_type": "markdown",
   "id": "c19e89c8",
   "metadata": {},
   "source": [
    "# Displaying the black and white Image"
   ]
  },
  {
   "cell_type": "code",
   "execution_count": 5,
   "id": "b4668ef9",
   "metadata": {},
   "outputs": [
    {
     "data": {
      "text/plain": [
       "13"
      ]
     },
     "execution_count": 5,
     "metadata": {},
     "output_type": "execute_result"
    }
   ],
   "source": [
    "cv2.imshow(\"Black and White Image\",b_and_w_image)\n",
    "cv2.waitKey(0)"
   ]
  },
  {
   "cell_type": "code",
   "execution_count": 6,
   "id": "eb5f6bec",
   "metadata": {},
   "outputs": [],
   "source": [
    "inverted_image = 255 - b_and_w_image\n",
    "\n"
   ]
  },
  {
   "cell_type": "markdown",
   "id": "436123db",
   "metadata": {},
   "source": [
    "# Displayiing Invered Image"
   ]
  },
  {
   "cell_type": "code",
   "execution_count": 7,
   "id": "52eed662",
   "metadata": {},
   "outputs": [
    {
     "data": {
      "text/plain": [
       "13"
      ]
     },
     "execution_count": 7,
     "metadata": {},
     "output_type": "execute_result"
    }
   ],
   "source": [
    "cv2.imshow(\"Inverted Image\",inverted_image)\n",
    "cv2.waitKey()"
   ]
  },
  {
   "cell_type": "code",
   "execution_count": 8,
   "id": "78122683",
   "metadata": {},
   "outputs": [],
   "source": [
    "cv2.destroyAllWindows()\n"
   ]
  },
  {
   "cell_type": "markdown",
   "id": "bb177b6b",
   "metadata": {},
   "source": [
    "# Blurring the image"
   ]
  },
  {
   "cell_type": "code",
   "execution_count": 9,
   "id": "afa221fb",
   "metadata": {},
   "outputs": [],
   "source": [
    "blurred = cv2.GaussianBlur(inverted_image,(21,21),0)"
   ]
  },
  {
   "cell_type": "markdown",
   "id": "291e1ce1",
   "metadata": {},
   "source": [
    "# Inverting the Blurred Image"
   ]
  },
  {
   "cell_type": "code",
   "execution_count": 10,
   "id": "87a6fbd3",
   "metadata": {},
   "outputs": [],
   "source": [
    "\n",
    "inverted_blurred = 255- blurred\n",
    "\n"
   ]
  },
  {
   "cell_type": "markdown",
   "id": "c708af0e",
   "metadata": {},
   "source": [
    "# Creating the Pencil sketch image "
   ]
  },
  {
   "cell_type": "code",
   "execution_count": 11,
   "id": "3decad92",
   "metadata": {},
   "outputs": [],
   "source": [
    "pencil_sketch = cv2.divide(b_and_w_image, inverted_blurred,scale=256.0)"
   ]
  },
  {
   "cell_type": "markdown",
   "id": "d84b2466",
   "metadata": {},
   "source": [
    "# Displaying sketch Image"
   ]
  },
  {
   "cell_type": "code",
   "execution_count": 12,
   "id": "a9dec6e3",
   "metadata": {},
   "outputs": [
    {
     "data": {
      "text/plain": [
       "13"
      ]
     },
     "execution_count": 12,
     "metadata": {},
     "output_type": "execute_result"
    }
   ],
   "source": [
    "\n",
    "cv2.imshow(\"Sketch Image\", pencil_sketch)\n",
    "cv2.waitKey(0)"
   ]
  },
  {
   "cell_type": "markdown",
   "id": "67c2e954",
   "metadata": {},
   "source": [
    "# Displaying Original Image"
   ]
  },
  {
   "cell_type": "code",
   "execution_count": 13,
   "id": "feb49a7b",
   "metadata": {},
   "outputs": [],
   "source": [
    "\n",
    "cv2.imshow(\"Original Image\",image)\n",
    "\n"
   ]
  },
  {
   "cell_type": "markdown",
   "id": "8db74581",
   "metadata": {},
   "source": [
    "# Displaying Sketch image\n"
   ]
  },
  {
   "cell_type": "code",
   "execution_count": 14,
   "id": "9b0d1b0f",
   "metadata": {},
   "outputs": [
    {
     "data": {
      "text/plain": [
       "13"
      ]
     },
     "execution_count": 14,
     "metadata": {},
     "output_type": "execute_result"
    }
   ],
   "source": [
    "cv2.imshow(\"Penil Sketch Image\",pencil_sketch)\n",
    "cv2.waitKey(0)"
   ]
  },
  {
   "cell_type": "code",
   "execution_count": 15,
   "id": "2e4c642a",
   "metadata": {},
   "outputs": [
    {
     "data": {
      "text/plain": [
       "True"
      ]
     },
     "execution_count": 15,
     "metadata": {},
     "output_type": "execute_result"
    }
   ],
   "source": [
    "filename = 'sketch_image.jpg'\n",
    "cv2.imwrite(filename,pencil_sketch)"
   ]
  },
  {
   "cell_type": "code",
   "execution_count": null,
   "id": "53ec241f",
   "metadata": {},
   "outputs": [],
   "source": []
  }
 ],
 "metadata": {
  "kernelspec": {
   "display_name": "Python 3 (ipykernel)",
   "language": "python",
   "name": "python3"
  },
  "language_info": {
   "codemirror_mode": {
    "name": "ipython",
    "version": 3
   },
   "file_extension": ".py",
   "mimetype": "text/x-python",
   "name": "python",
   "nbconvert_exporter": "python",
   "pygments_lexer": "ipython3",
   "version": "3.9.7"
  }
 },
 "nbformat": 4,
 "nbformat_minor": 5
}

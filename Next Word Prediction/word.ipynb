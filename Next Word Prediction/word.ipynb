{
 "cells": [
  {
   "cell_type": "markdown",
   "id": "d8f4c94b",
   "metadata": {},
   "source": [
    "## Data Science Intern at Let's Grow more June 2023\n",
    "\n",
    "## Intermediate Level Task\n",
    "\n",
    "## Next Word Prediction\n",
    "\n",
    "## Mohammad Aamir Rangrez"
   ]
  },
  {
   "cell_type": "markdown",
   "id": "293ed3ad",
   "metadata": {},
   "source": [
    "# **Table of Contents:**\n",
    "* Import Libraries\n",
    "* Getting the Data\n",
    "* Data exploration/Analysis\n",
    "* Spitting Dataset into onw wod each\n",
    "* Making list of sorted unique words\n",
    "* Features Engineering ad one hot Encoding \n",
    "* Storing features and corresponding labels\n",
    "* Building the model\n",
    "* Training our model\n",
    "* Loadin our Model\n",
    "* Making Predictions\n",
    "* Function for prediction\n",
    "* Result\n"
   ]
  },
  {
   "cell_type": "markdown",
   "id": "41c549ad",
   "metadata": {},
   "source": [
    "# Importing Libraries"
   ]
  },
  {
   "cell_type": "code",
   "execution_count": 1,
   "id": "1601ba3a",
   "metadata": {},
   "outputs": [],
   "source": [
    "import numpy as np\n",
    "import pandas as pd\n",
    "import matplotlib.pyplot as plt\n",
    "from nltk.tokenize import RegexpTokenizer\n",
    "from keras.models import Sequential, load_model\n",
    "from keras.layers import LSTM\n",
    "from keras.layers.core import Dense,Activation\n",
    "from tensorflow.keras.optimizers import RMSprop\n",
    "import pickle\n",
    "import heapq"
   ]
  },
  {
   "cell_type": "markdown",
   "id": "86e62c66",
   "metadata": {},
   "source": [
    "# Uploading Dataset from system"
   ]
  },
  {
   "cell_type": "code",
   "execution_count": 2,
   "id": "19bf297b",
   "metadata": {},
   "outputs": [
    {
     "data": {
      "application/vnd.jupyter.widget-view+json": {
       "model_id": "8afd7fe1f71f4b5397b5cb8555ff3158",
       "version_major": 2,
       "version_minor": 0
      },
      "text/plain": [
       "FileUpload(value={}, accept='.txt', description='Upload', multiple=True)"
      ]
     },
     "metadata": {},
     "output_type": "display_data"
    },
    {
     "data": {
      "application/vnd.jupyter.widget-view+json": {
       "model_id": "8afd7fe1f71f4b5397b5cb8555ff3158",
       "version_major": 2,
       "version_minor": 0
      },
      "text/plain": [
       "FileUpload(value={}, accept='.txt', description='Upload', multiple=True)"
      ]
     },
     "metadata": {},
     "output_type": "display_data"
    }
   ],
   "source": [
    "from ipywidgets import FileUpload\n",
    "from IPython.display import display\n",
    "upload = FileUpload(accept='.txt',multiple=True)\n",
    "display(upload)"
   ]
  },
  {
   "cell_type": "code",
   "execution_count": 3,
   "id": "3fd9f6e8",
   "metadata": {},
   "outputs": [
    {
     "name": "stdout",
     "output_type": "stream",
     "text": [
      "orpus lenght: 581888\n",
      "orpus lenght: 581888\n"
     ]
    }
   ],
   "source": [
    "text = open('1999.txt',encoding='UTF-8').read().lower()\n",
    "print('orpus lenght:',len(text))"
   ]
  },
  {
   "cell_type": "markdown",
   "id": "68bbf1c7",
   "metadata": {},
   "source": [
    "# Spitting Dataset into one word each"
   ]
  },
  {
   "cell_type": "code",
   "execution_count": 4,
   "id": "497c8ed5",
   "metadata": {},
   "outputs": [],
   "source": [
    "tokenizer = RegexpTokenizer(r'\\w+')\n",
    "words = tokenizer.tokenize(text)                           "
   ]
  },
  {
   "cell_type": "markdown",
   "id": "3b8f648d",
   "metadata": {},
   "source": [
    "# Making list of sorted unique words"
   ]
  },
  {
   "cell_type": "code",
   "execution_count": 6,
   "id": "fa77da54",
   "metadata": {},
   "outputs": [],
   "source": [
    "unique_word  = np.unique(words)\n",
    "unique_word_index = dict((c,i) for i,c in enumerate(unique_word))"
   ]
  },
  {
   "cell_type": "markdown",
   "id": "244c8ace",
   "metadata": {},
   "source": [
    "# Features Engineering and one Hot Encoding"
   ]
  },
  {
   "cell_type": "code",
   "execution_count": 8,
   "id": "86e304b5",
   "metadata": {},
   "outputs": [
    {
     "name": "stdout",
     "output_type": "stream",
     "text": [
      "['project', 'gutenberg', 's', 'the', 'adventures']\n",
      "of\n",
      "['project', 'gutenberg', 's', 'the', 'adventures']\n",
      "of\n"
     ]
    }
   ],
   "source": [
    "word_length = 5\n",
    "prev_words = []\n",
    "next_words = []\n",
    "for i in range(len(words) - word_length):\n",
    "    prev_words.append(words[i:i + word_length])\n",
    "    next_words.append(words[i + word_length])\n",
    "print(prev_words[0])\n",
    "print(next_words[0])"
   ]
  },
  {
   "cell_type": "markdown",
   "id": "4dda4c83",
   "metadata": {},
   "source": [
    "# Storing features and corresponding labels"
   ]
  },
  {
   "cell_type": "code",
   "execution_count": 10,
   "id": "f36fd3e8",
   "metadata": {},
   "outputs": [],
   "source": [
    "x = np.zeros((len(prev_words),word_length, len(unique_word)), dtype=bool)\n",
    "y = np.zeros((len(next_words),len(unique_word)),dtype=bool)\n",
    "for i, each_words in enumerate(prev_words):\n",
    "    for j, each_words in enumerate(each_words):\n",
    "        x[i,j, unique_word_index[each_words]] = 1\n",
    "    y[i,unique_word_index[next_words[i]]] =1"
   ]
  },
  {
   "cell_type": "code",
   "execution_count": 11,
   "id": "80927ec1",
   "metadata": {},
   "outputs": [
    {
     "name": "stdout",
     "output_type": "stream",
     "text": [
      "[False False False ... False False False]\n",
      "[False False False ... False False False]\n"
     ]
    }
   ],
   "source": [
    "print(x[0][0])"
   ]
  },
  {
   "cell_type": "markdown",
   "id": "cc4af4f2",
   "metadata": {},
   "source": [
    "# Building the model"
   ]
  },
  {
   "cell_type": "code",
   "execution_count": 13,
   "id": "6ac4ddcc",
   "metadata": {},
   "outputs": [],
   "source": [
    "model = Sequential()\n",
    "model.add(LSTM(128,input_shape=(word_length, len(unique_word))))\n",
    "model.add(Dense(len(unique_word)))\n",
    "model.add(Activation('softmax'))"
   ]
  },
  {
   "cell_type": "markdown",
   "id": "68d2ab7e",
   "metadata": {},
   "source": [
    "# Training our Model "
   ]
  },
  {
   "cell_type": "code",
   "execution_count": 15,
   "id": "99c61353",
   "metadata": {},
   "outputs": [
    {
     "name": "stderr",
     "output_type": "stream",
     "text": [
      "C:\\ProgramData\\Anaconda3\\lib\\site-packages\\keras\\optimizers\\optimizer_v2\\rmsprop.py:140: UserWarning: The `lr` argument is deprecated, use `learning_rate` instead.\n",
      "  super().__init__(name, **kwargs)\n",
      "C:\\ProgramData\\Anaconda3\\lib\\site-packages\\keras\\optimizers\\optimizer_v2\\rmsprop.py:140: UserWarning: The `lr` argument is deprecated, use `learning_rate` instead.\n",
      "  super().__init__(name, **kwargs)\n"
     ]
    },
    {
     "name": "stdout",
     "output_type": "stream",
     "text": [
      "Epoch 1/2\n",
      "Epoch 1/2\n",
      "811/811 [==============================] - 309s 374ms/step - loss: 5.9998 - accuracy: 0.1083 - val_loss: 7.0276 - val_accuracy: 0.1020\n",
      "811/811 [==============================] - 309s 374ms/step - loss: 5.9998 - accuracy: 0.1083 - val_loss: 7.0276 - val_accuracy: 0.1020\n",
      "Epoch 2/2\n",
      "Epoch 2/2\n",
      "811/811 [==============================] - 238s 293ms/step - loss: 5.7671 - accuracy: 0.1474 - val_loss: 7.8632 - val_accuracy: 0.1060\n",
      "811/811 [==============================] - 238s 293ms/step - loss: 5.7671 - accuracy: 0.1474 - val_loss: 7.8632 - val_accuracy: 0.1060\n"
     ]
    }
   ],
   "source": [
    "optimizer = RMSprop(lr=0.01)\n",
    "model.compile(loss='categorical_crossentropy',optimizer=optimizer,metrics=['accuracy'])\n",
    "history = model.fit(x,y,validation_split=0.05,batch_size=128,epochs=2,shuffle=True).history"
   ]
  },
  {
   "cell_type": "markdown",
   "id": "29d65a21",
   "metadata": {},
   "source": [
    "# Loading our Model"
   ]
  },
  {
   "cell_type": "code",
   "execution_count": 17,
   "id": "df033bf8",
   "metadata": {},
   "outputs": [],
   "source": [
    "model.save('keras_next_word_model.h5')\n",
    "pickle.dump(history, open('history.p','wb'))\n",
    "model = load_model('keras_next_word_model.h5')\n",
    "history = pickle.load(open('history.p','rb'))"
   ]
  },
  {
   "cell_type": "markdown",
   "id": "7b2c7c48",
   "metadata": {},
   "source": [
    "# Making Predictions"
   ]
  },
  {
   "cell_type": "code",
   "execution_count": 19,
   "id": "bcbbec7c",
   "metadata": {},
   "outputs": [
    {
     "name": "stdout",
     "output_type": "stream",
     "text": [
      "how\n",
      "are\n",
      "you\n",
      "how\n",
      "are\n",
      "you\n"
     ]
    },
    {
     "data": {
      "text/plain": [
       "array([[[0., 0., 0., ..., 0., 0., 0.],\n",
       "        [0., 0., 0., ..., 0., 0., 0.],\n",
       "        [0., 0., 0., ..., 0., 0., 0.],\n",
       "        [0., 0., 0., ..., 0., 0., 0.],\n",
       "        [0., 0., 0., ..., 0., 0., 0.]]])"
      ]
     },
     "execution_count": 19,
     "metadata": {},
     "output_type": "execute_result"
    },
    {
     "data": {
      "text/plain": [
       "array([[[0., 0., 0., ..., 0., 0., 0.],\n",
       "        [0., 0., 0., ..., 0., 0., 0.],\n",
       "        [0., 0., 0., ..., 0., 0., 0.],\n",
       "        [0., 0., 0., ..., 0., 0., 0.],\n",
       "        [0., 0., 0., ..., 0., 0., 0.]]])"
      ]
     },
     "execution_count": 19,
     "metadata": {},
     "output_type": "execute_result"
    }
   ],
   "source": [
    "def prepare_input(text):\n",
    "    x = np.zeros((1,word_length, len(unique_word)))\n",
    "    for t, word in enumerate(text.split()):\n",
    "        print(word)\n",
    "        x[0, t,unique_word_index[word]] = 1\n",
    "    return x\n",
    "prepare_input(\"How are you \".lower())"
   ]
  },
  {
   "cell_type": "code",
   "execution_count": 20,
   "id": "ac9285ff",
   "metadata": {},
   "outputs": [],
   "source": [
    "def sample(preds, top_n=3):\n",
    "    preds = np.asarray(preds).astype('float64')\n",
    "    preds = np.log(preds)\n",
    "    exp_preds = np.exp(preds)\n",
    "    preds = exp_preds / np.sum(exp_preds)\n",
    "    return heapq.nlargest(top_n, range(len(preds)),preds.take)"
   ]
  },
  {
   "cell_type": "markdown",
   "id": "5a0d6021",
   "metadata": {},
   "source": [
    "# Function for prediction"
   ]
  },
  {
   "cell_type": "code",
   "execution_count": 25,
   "id": "197121bb",
   "metadata": {},
   "outputs": [],
   "source": [
    "def predict_completion(text, n=3):\n",
    "    if text == \"\":\n",
    "        return(\"0\")\n",
    "    x = prepare_input(text)\n",
    "    preds = model.predict(x, verbose=0)[0]\n",
    "    next_indices = sample(preds, n)\n",
    "    return [unique_word[idx] for idx in next_indices]"
   ]
  },
  {
   "cell_type": "markdown",
   "id": "0b2c094b",
   "metadata": {},
   "source": [
    "# Result"
   ]
  },
  {
   "cell_type": "code",
   "execution_count": 26,
   "id": "04b4d060",
   "metadata": {},
   "outputs": [
    {
     "name": "stdout",
     "output_type": "stream",
     "text": [
      "correct sentence:  Tell me about your self and your family\n",
      "Sequence:  tell me about your self\n",
      "tell\n",
      "me\n",
      "about\n",
      "your\n",
      "self\n",
      "correct sentence:  Tell me about your self and your family\n",
      "Sequence:  tell me about your self\n",
      "tell\n",
      "me\n",
      "about\n",
      "your\n",
      "self\n",
      "Next Posible words are:  ['s', 'is', 'you', 'i', 'for']\n",
      "Next Posible words are:  ['s', 'is', 'you', 'i', 'for']\n"
     ]
    }
   ],
   "source": [
    "q = \"Tell me about your self and your family\"\n",
    "print(\"correct sentence: \",q)\n",
    "seq = \" \".join(tokenizer.tokenize(q.lower())[0:5])\n",
    "print(\"Sequence: \",seq)\n",
    "print(\"Next Posible words are: \",predict_completion(seq, 5))"
   ]
  },
  {
   "cell_type": "markdown",
   "id": "5c5ba51e",
   "metadata": {},
   "source": [
    "# Thank You.... :)"
   ]
  },
  {
   "cell_type": "code",
   "execution_count": null,
   "id": "eae5d3b4",
   "metadata": {},
   "outputs": [],
   "source": []
  }
 ],
 "metadata": {
  "kernelspec": {
   "display_name": "Python 3 (ipykernel)",
   "language": "python",
   "name": "python3"
  },
  "language_info": {
   "codemirror_mode": {
    "name": "ipython",
    "version": 3
   },
   "file_extension": ".py",
   "mimetype": "text/x-python",
   "name": "python",
   "nbconvert_exporter": "python",
   "pygments_lexer": "ipython3",
   "version": "3.9.7"
  }
 },
 "nbformat": 4,
 "nbformat_minor": 5
}
